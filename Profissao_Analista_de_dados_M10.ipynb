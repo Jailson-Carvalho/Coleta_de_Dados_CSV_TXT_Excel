{
  "cells": [
    {
      "cell_type": "markdown",
      "metadata": {
        "id": "KJqp9AANOCtf"
      },
      "source": [
        "<img src=\"https://raw.githubusercontent.com/andre-marcos-perez/ebac-course-utils/main/media/logo/newebac_logo_black_half.png\" alt=\"ebac-logo\">\n",
        "\n",
        "---\n",
        "\n",
        "# **Módulo** | Análise de Dados: Coleta de Dados I\n",
        "Caderno de **Exercícios**<br>\n",
        "Professor [André Perez](https://www.linkedin.com/in/andremarcosperez/)<br>\n",
        "Aluno [Jailson Carvalho](www.linkedin.com/in/jailson-carvalhos)\n",
        "\n",
        "---"
      ]
    },
    {
      "cell_type": "markdown",
      "metadata": {
        "id": "d9jDtUbDOE1-"
      },
      "source": [
        "# **Tópicos**\n",
        "\n",
        "<ol type=\"1\">\n",
        "  <li>Arquivos CSV;</li>\n",
        "  <li>Arquivos Texto;</li>\n",
        "  <li>Arquivos Excel.</li>\n",
        "</ol>"
      ]
    },
    {
      "cell_type": "markdown",
      "metadata": {
        "id": "SmoHgt-lwkpD"
      },
      "source": [
        "---"
      ]
    },
    {
      "cell_type": "markdown",
      "metadata": {
        "id": "GABI6OW8OfQ2"
      },
      "source": [
        "# **Exercícios**"
      ]
    },
    {
      "cell_type": "markdown",
      "metadata": {
        "id": "muD1vxozykSC"
      },
      "source": [
        "## 0\\. Preparando o ambiente"
      ]
    },
    {
      "cell_type": "markdown",
      "metadata": {
        "id": "ByX7SUjNKk2K"
      },
      "source": [
        "Vamos explorar dados de crédito presentes no arquivo `credito.xlsx` ([link](https://raw.githubusercontent.com/andre-marcos-perez/ebac-course-utils/develop/dataset/credito.xlsx)). Os dados estão no formato de **Excel** (XLSX) e contém informações sobre clientes de uma instituição financeira. Em especial, estamos interessados em explicar a segunda coluna, chamada de **default**, que indica se um cliente é adimplente (`default = 0`), ou inadimplente (`default = 1`), ou seja, queremos entender o porque um cliente deixa de honrar com suas dívidas baseado no comportamento de outros atributos, como salário, escolaridade e movimentação financeira. Uma descrição completa dos atributos está abaixo."
      ]
    },
    {
      "cell_type": "markdown",
      "metadata": {
        "id": "Z5Fd0NSVLnwE"
      },
      "source": [
        "\n",
        "\n",
        "| Coluna  | Descrição |\n",
        "| ------- | --------- |\n",
        "| id      | Número da conta |\n",
        "| default | Indica se o cliente é adimplente (0) ou inadimplente (1) |\n",
        "| idade   | --- |\n",
        "| sexo    | --- |\n",
        "| depedentes | --- |\n",
        "| escolaridade | --- |\n",
        "| estado_civil | --- |\n",
        "| salario_anual | Faixa do salario mensal multiplicado por 12 |\n",
        "| tipo_cartao | Categoria do cartao: blue, silver, gold e platinium |\n",
        "| meses_de_relacionamento | Quantidade de meses desde a abertura da conta |\n",
        "| qtd_produtos | Quantidade de produtos contratados |\n",
        "| iteracoes_12m | Quantidade de iteracoes com o cliente no último ano |\n",
        "| meses_inatico_12m | Quantidade de meses que o cliente ficou inativo no último ano |\n",
        "| limite_credito | Valor do limite do cartão de crédito |\n",
        "| valor_transacoes_12m | Soma total do valor das transações no cartão de crédito no último ano |\n",
        "| qtd_transacoes_12m | Quantidade total de transações no cartão de crédito no último ano |\n",
        "\n"
      ]
    },
    {
      "cell_type": "markdown",
      "metadata": {
        "id": "peEbZE2vcMaH"
      },
      "source": [
        "Faça o download do arquivo `credito.xlsx` com a célula de código abaixo."
      ]
    },
    {
      "cell_type": "code",
      "execution_count": 2,
      "metadata": {},
      "outputs": [
        {
          "name": "stdout",
          "output_type": "stream",
          "text": [
            "Note: you may need to restart the kernel to use updated packages.Requirement already satisfied: requests in c:\\users\\jailson\\appdata\\local\\programs\\python\\python312\\lib\\site-packages (2.32.3)\n",
            "Requirement already satisfied: charset-normalizer<4,>=2 in c:\\users\\jailson\\appdata\\local\\programs\\python\\python312\\lib\\site-packages (from requests) (3.3.2)\n",
            "Requirement already satisfied: idna<4,>=2.5 in c:\\users\\jailson\\appdata\\local\\programs\\python\\python312\\lib\\site-packages (from requests) (3.7)\n",
            "Requirement already satisfied: urllib3<3,>=1.21.1 in c:\\users\\jailson\\appdata\\local\\programs\\python\\python312\\lib\\site-packages (from requests) (2.2.2)\n",
            "Requirement already satisfied: certifi>=2017.4.17 in c:\\users\\jailson\\appdata\\local\\programs\\python\\python312\\lib\\site-packages (from requests) (2024.7.4)\n",
            "\n"
          ]
        },
        {
          "name": "stderr",
          "output_type": "stream",
          "text": [
            "\n",
            "[notice] A new release of pip is available: 23.2.1 -> 24.2\n",
            "[notice] To update, run: python.exe -m pip install --upgrade pip\n"
          ]
        }
      ],
      "source": [
        "pip install requests"
      ]
    },
    {
      "cell_type": "code",
      "execution_count": 3,
      "metadata": {},
      "outputs": [
        {
          "name": "stdout",
          "output_type": "stream",
          "text": [
            "Download completo.\n"
          ]
        }
      ],
      "source": [
        "import requests\n",
        "\n",
        "url = 'https://raw.githubusercontent.com/andre-marcos-perez/ebac-course-utils/main/dataset/credito.xlsx'\n",
        "response = requests.get(url)\n",
        "\n",
        "# Escreve o conteúdo baixado em um arquivo\n",
        "with open('banco.xlsx', 'wb') as file:\n",
        "    file.write(response.content)\n",
        "\n",
        "print('Download completo.')"
      ]
    },
    {
      "cell_type": "markdown",
      "metadata": {
        "id": "zMN1Q3jdwoJm"
      },
      "source": [
        "---"
      ]
    },
    {
      "cell_type": "markdown",
      "metadata": {
        "id": "GWgNoJN8DHyY"
      },
      "source": [
        "## 1\\. Excel para CSV"
      ]
    },
    {
      "cell_type": "markdown",
      "metadata": {
        "id": "YynK1vf2DHyj"
      },
      "source": [
        "Utilizando o pacote Python `openpyxl` visto em aula, extraia os seguintes as colunas `id`, `sexo` e `idade` para dos clientes inadimplentes (`default = 1`) e solteiros (`estado_civil = 'solteiro'`). Salves os dados extraídos no arquivo csv `credito.csv` separado por `;`. Exemplo do cabeçalho e das três primeiras linhas:"
      ]
    },
    {
      "cell_type": "code",
      "execution_count": 4,
      "metadata": {},
      "outputs": [
        {
          "name": "stdout",
          "output_type": "stream",
          "text": [
            "Requirement already satisfied: openpyxl in c:\\users\\jailson\\appdata\\local\\programs\\python\\python312\\lib\\site-packages (3.1.5)Note: you may need to restart the kernel to use updated packages.\n",
            "\n",
            "Requirement already satisfied: et-xmlfile in c:\\users\\jailson\\appdata\\local\\programs\\python\\python312\\lib\\site-packages (from openpyxl) (1.1.0)\n"
          ]
        },
        {
          "name": "stderr",
          "output_type": "stream",
          "text": [
            "\n",
            "[notice] A new release of pip is available: 23.2.1 -> 24.2\n",
            "[notice] To update, run: python.exe -m pip install --upgrade pip\n"
          ]
        }
      ],
      "source": [
        "pip install openpyxl"
      ]
    },
    {
      "cell_type": "code",
      "execution_count": 7,
      "metadata": {
        "id": "hVK8QyFvE-wk"
      },
      "outputs": [],
      "source": [
        "from openpyxl import load_workbook\n",
        "\n",
        "planilhas = load_workbook(filename='credito.xlsx')\n",
        "# para trazer a primeira planilha: planilha = planilhas.active\n",
        "planilha = planilhas.active"
      ]
    },
    {
      "cell_type": "code",
      "execution_count": 16,
      "metadata": {},
      "outputs": [
        {
          "name": "stdout",
          "output_type": "stream",
          "text": [
            "Collecting pandasNote: you may need to restart the kernel to use updated packages.\n"
          ]
        },
        {
          "name": "stderr",
          "output_type": "stream",
          "text": [
            "\n",
            "[notice] A new release of pip is available: 23.2.1 -> 24.2\n",
            "[notice] To update, run: python.exe -m pip install --upgrade pip\n"
          ]
        },
        {
          "name": "stdout",
          "output_type": "stream",
          "text": [
            "\n",
            "  Obtaining dependency information for pandas from https://files.pythonhosted.org/packages/22/a5/a0b255295406ed54269814bc93723cfd1a0da63fb9aaf99e1364f07923e5/pandas-2.2.2-cp312-cp312-win_amd64.whl.metadata\n",
            "  Downloading pandas-2.2.2-cp312-cp312-win_amd64.whl.metadata (19 kB)\n",
            "Collecting numpy>=1.26.0 (from pandas)\n",
            "  Obtaining dependency information for numpy>=1.26.0 from https://files.pythonhosted.org/packages/8c/bf/d9d214a9dff020ad1663f1536f45d34e052e4c7f630c46cd363e785e3231/numpy-2.1.0-cp312-cp312-win_amd64.whl.metadata\n",
            "  Downloading numpy-2.1.0-cp312-cp312-win_amd64.whl.metadata (59 kB)\n",
            "     ---------------------------------------- 0.0/59.7 kB ? eta -:--:--\n",
            "     ------ --------------------------------- 10.2/59.7 kB ? eta -:--:--\n",
            "     ------ --------------------------------- 10.2/59.7 kB ? eta -:--:--\n",
            "     -------------------------- ----------- 41.0/59.7 kB 330.3 kB/s eta 0:00:01\n",
            "     -------------------------------------- 59.7/59.7 kB 396.0 kB/s eta 0:00:00\n",
            "Requirement already satisfied: python-dateutil>=2.8.2 in c:\\users\\jailson\\appdata\\roaming\\python\\python312\\site-packages (from pandas) (2.9.0.post0)\n",
            "Collecting pytz>=2020.1 (from pandas)\n",
            "  Obtaining dependency information for pytz>=2020.1 from https://files.pythonhosted.org/packages/9c/3d/a121f284241f08268b21359bd425f7d4825cffc5ac5cd0e1b3d82ffd2b10/pytz-2024.1-py2.py3-none-any.whl.metadata\n",
            "  Downloading pytz-2024.1-py2.py3-none-any.whl.metadata (22 kB)\n",
            "Collecting tzdata>=2022.7 (from pandas)\n",
            "  Obtaining dependency information for tzdata>=2022.7 from https://files.pythonhosted.org/packages/65/58/f9c9e6be752e9fcb8b6a0ee9fb87e6e7a1f6bcab2cdc73f02bb7ba91ada0/tzdata-2024.1-py2.py3-none-any.whl.metadata\n",
            "  Downloading tzdata-2024.1-py2.py3-none-any.whl.metadata (1.4 kB)\n",
            "Requirement already satisfied: six>=1.5 in c:\\users\\jailson\\appdata\\roaming\\python\\python312\\site-packages (from python-dateutil>=2.8.2->pandas) (1.16.0)\n",
            "Downloading pandas-2.2.2-cp312-cp312-win_amd64.whl (11.5 MB)\n",
            "   ---------------------------------------- 0.0/11.5 MB ? eta -:--:--\n",
            "   ---------------------------------------- 0.1/11.5 MB 3.6 MB/s eta 0:00:04\n",
            "   - -------------------------------------- 0.5/11.5 MB 5.6 MB/s eta 0:00:02\n",
            "   -- ------------------------------------- 0.6/11.5 MB 6.6 MB/s eta 0:00:02\n",
            "   -- ------------------------------------- 0.8/11.5 MB 4.6 MB/s eta 0:00:03\n",
            "   --- ------------------------------------ 1.0/11.5 MB 4.4 MB/s eta 0:00:03\n",
            "   ---- ----------------------------------- 1.4/11.5 MB 5.2 MB/s eta 0:00:02\n",
            "   ----- ---------------------------------- 1.7/11.5 MB 5.6 MB/s eta 0:00:02\n",
            "   ------ --------------------------------- 2.0/11.5 MB 5.5 MB/s eta 0:00:02\n",
            "   -------- ------------------------------- 2.3/11.5 MB 5.6 MB/s eta 0:00:02\n",
            "   -------- ------------------------------- 2.5/11.5 MB 5.5 MB/s eta 0:00:02\n",
            "   --------- ------------------------------ 2.7/11.5 MB 5.5 MB/s eta 0:00:02\n",
            "   ---------- ----------------------------- 3.1/11.5 MB 5.7 MB/s eta 0:00:02\n",
            "   ------------ --------------------------- 3.5/11.5 MB 5.8 MB/s eta 0:00:02\n",
            "   ------------ --------------------------- 3.7/11.5 MB 5.8 MB/s eta 0:00:02\n",
            "   ------------- -------------------------- 3.9/11.5 MB 5.7 MB/s eta 0:00:02\n",
            "   -------------- ------------------------- 4.3/11.5 MB 5.7 MB/s eta 0:00:02\n",
            "   --------------- ------------------------ 4.5/11.5 MB 5.6 MB/s eta 0:00:02\n",
            "   ---------------- ----------------------- 4.9/11.5 MB 5.7 MB/s eta 0:00:02\n",
            "   ------------------ --------------------- 5.3/11.5 MB 5.9 MB/s eta 0:00:02\n",
            "   ------------------- -------------------- 5.5/11.5 MB 5.8 MB/s eta 0:00:02\n",
            "   -------------------- ------------------- 5.8/11.5 MB 5.8 MB/s eta 0:00:01\n",
            "   --------------------- ------------------ 6.1/11.5 MB 5.9 MB/s eta 0:00:01\n",
            "   ---------------------- ----------------- 6.5/11.5 MB 6.0 MB/s eta 0:00:01\n",
            "   ----------------------- ---------------- 6.8/11.5 MB 6.0 MB/s eta 0:00:01\n",
            "   ------------------------ --------------- 7.2/11.5 MB 6.0 MB/s eta 0:00:01\n",
            "   -------------------------- ------------- 7.6/11.5 MB 6.2 MB/s eta 0:00:01\n",
            "   --------------------------- ------------ 8.0/11.5 MB 6.3 MB/s eta 0:00:01\n",
            "   ---------------------------- ----------- 8.2/11.5 MB 6.2 MB/s eta 0:00:01\n",
            "   ------------------------------ --------- 8.7/11.5 MB 6.3 MB/s eta 0:00:01\n",
            "   ------------------------------- -------- 9.0/11.5 MB 6.3 MB/s eta 0:00:01\n",
            "   -------------------------------- ------- 9.4/11.5 MB 6.3 MB/s eta 0:00:01\n",
            "   ----------------------------------- ---- 10.1/11.5 MB 6.5 MB/s eta 0:00:01\n",
            "   ------------------------------------ --- 10.5/11.5 MB 6.5 MB/s eta 0:00:01\n",
            "   -------------------------------------- - 11.0/11.5 MB 6.7 MB/s eta 0:00:01\n",
            "   ---------------------------------------  11.4/11.5 MB 6.8 MB/s eta 0:00:01\n",
            "   ---------------------------------------  11.5/11.5 MB 6.7 MB/s eta 0:00:01\n",
            "   ---------------------------------------  11.5/11.5 MB 6.7 MB/s eta 0:00:01\n",
            "   ---------------------------------------- 11.5/11.5 MB 6.2 MB/s eta 0:00:00\n",
            "Downloading numpy-2.1.0-cp312-cp312-win_amd64.whl (12.6 MB)\n",
            "   ---------------------------------------- 0.0/12.6 MB ? eta -:--:--\n",
            "   - -------------------------------------- 0.6/12.6 MB 17.5 MB/s eta 0:00:01\n",
            "   -- ------------------------------------- 0.9/12.6 MB 9.7 MB/s eta 0:00:02\n",
            "   ---- ----------------------------------- 1.4/12.6 MB 11.1 MB/s eta 0:00:02\n",
            "   ----- ---------------------------------- 1.7/12.6 MB 9.8 MB/s eta 0:00:02\n",
            "   ------- -------------------------------- 2.3/12.6 MB 9.7 MB/s eta 0:00:02\n",
            "   -------- ------------------------------- 2.7/12.6 MB 9.7 MB/s eta 0:00:02\n",
            "   ---------- ----------------------------- 3.3/12.6 MB 10.0 MB/s eta 0:00:01\n",
            "   ----------- ---------------------------- 3.7/12.6 MB 9.9 MB/s eta 0:00:01\n",
            "   ------------ --------------------------- 3.9/12.6 MB 8.9 MB/s eta 0:00:01\n",
            "   -------------- ------------------------- 4.6/12.6 MB 9.0 MB/s eta 0:00:01\n",
            "   ------------------ --------------------- 5.9/12.6 MB 9.0 MB/s eta 0:00:01\n",
            "   --------------------- ------------------ 6.6/12.6 MB 9.0 MB/s eta 0:00:01\n",
            "   ---------------------- ----------------- 7.0/12.6 MB 8.9 MB/s eta 0:00:01\n",
            "   ----------------------- ---------------- 7.3/12.6 MB 8.8 MB/s eta 0:00:01\n",
            "   ------------------------- -------------- 7.9/12.6 MB 9.0 MB/s eta 0:00:01\n",
            "   -------------------------- ------------- 8.3/12.6 MB 9.0 MB/s eta 0:00:01\n",
            "   ---------------------------- ----------- 8.9/12.6 MB 9.1 MB/s eta 0:00:01\n",
            "   ----------------------------- ---------- 9.2/12.6 MB 9.1 MB/s eta 0:00:01\n",
            "   ------------------------------ --------- 9.5/12.6 MB 8.8 MB/s eta 0:00:01\n",
            "   ------------------------------- -------- 10.0/12.6 MB 8.9 MB/s eta 0:00:01\n",
            "   -------------------------------- ------- 10.1/12.6 MB 8.6 MB/s eta 0:00:01\n",
            "   --------------------------------- ------ 10.4/12.6 MB 8.4 MB/s eta 0:00:01\n",
            "   --------------------------------- ------ 10.5/12.6 MB 8.2 MB/s eta 0:00:01\n",
            "   ---------------------------------- ----- 11.0/12.6 MB 8.2 MB/s eta 0:00:01\n",
            "   ------------------------------------ --- 11.4/12.6 MB 8.3 MB/s eta 0:00:01\n",
            "   ------------------------------------- -- 11.7/12.6 MB 8.1 MB/s eta 0:00:01\n",
            "   -------------------------------------- - 12.2/12.6 MB 8.2 MB/s eta 0:00:01\n",
            "   ---------------------------------------  12.6/12.6 MB 8.1 MB/s eta 0:00:01\n",
            "   ---------------------------------------  12.6/12.6 MB 8.1 MB/s eta 0:00:01\n",
            "   ---------------------------------------  12.6/12.6 MB 8.1 MB/s eta 0:00:01\n",
            "   ---------------------------------------  12.6/12.6 MB 8.1 MB/s eta 0:00:01\n",
            "   ---------------------------------------- 12.6/12.6 MB 6.2 MB/s eta 0:00:00\n",
            "Downloading pytz-2024.1-py2.py3-none-any.whl (505 kB)\n",
            "   ---------------------------------------- 0.0/505.5 kB ? eta -:--:--\n",
            "   ------------------------ -------------- 317.4/505.5 kB 19.2 MB/s eta 0:00:01\n",
            "   -------------------------------------- - 481.3/505.5 kB 6.0 MB/s eta 0:00:01\n",
            "   ---------------------------------------- 505.5/505.5 kB 5.3 MB/s eta 0:00:00\n",
            "Downloading tzdata-2024.1-py2.py3-none-any.whl (345 kB)\n",
            "   ---------------------------------------- 0.0/345.4 kB ? eta -:--:--\n",
            "   --------------------------------------- 345.4/345.4 kB 20.9 MB/s eta 0:00:00\n",
            "Installing collected packages: pytz, tzdata, numpy, pandas\n",
            "Successfully installed numpy-2.1.0 pandas-2.2.2 pytz-2024.1 tzdata-2024.1\n"
          ]
        }
      ],
      "source": [
        "pip install pandas\n"
      ]
    },
    {
      "cell_type": "code",
      "execution_count": 17,
      "metadata": {},
      "outputs": [
        {
          "name": "stdout",
          "output_type": "stream",
          "text": [
            "              id sexo  idade\n",
            "144    767712558    M     59\n",
            "168    713741358    M     46\n",
            "253    772390908    M     59\n",
            "276    719211558    M     45\n",
            "426    709547658    M     39\n",
            "...          ...  ...    ...\n",
            "10055  710066133    M     30\n",
            "10071  713281833    M     37\n",
            "10098  716644008    M     55\n",
            "10107  713924283    M     61\n",
            "10119  716893683    F     55\n",
            "\n",
            "[668 rows x 3 columns]\n"
          ]
        }
      ],
      "source": [
        "import pandas as pd\n",
        "\n",
        "# Carregar a planilha Excel\n",
        "df = pd.read_excel('credito.xlsx')\n",
        "\n",
        "# Filtrar os dados para clientes inadimplentes e solteiros\n",
        "df_filtrado = df[(df['default'] == 1) & (df['estado_civil'] == 'solteiro')]\n",
        "\n",
        "# Selecionar as colunas id, sexo e idade\n",
        "df_resultado = df_filtrado[['id', 'sexo', 'idade']]\n",
        "\n",
        "# Exibir o resultado\n",
        "print(df_resultado)\n"
      ]
    },
    {
      "cell_type": "code",
      "execution_count": 18,
      "metadata": {},
      "outputs": [],
      "source": [
        "# Salvar em formato CSV\n",
        "df_resultado.to_csv('clientes_inadimplentes_solteiros.csv', index=False)"
      ]
    },
    {
      "cell_type": "markdown",
      "metadata": {},
      "source": [
        "---"
      ]
    },
    {
      "cell_type": "markdown",
      "metadata": {
        "id": "finLQoyyGVmk"
      },
      "source": [
        "## 2\\. Excel para JSON"
      ]
    },
    {
      "cell_type": "markdown",
      "metadata": {
        "id": "AQqks_tohV8k"
      },
      "source": [
        "Utilizando o pacote Python `openpyxl` visto em aula, extraia os dados das colunas `escolaridade` e `tipo_cartao`, removendo duplicados. Com os dados, construa o dicionário Python `credito`.\n"
      ]
    },
    {
      "cell_type": "code",
      "execution_count": 19,
      "metadata": {
        "id": "pCMQ5vBPjSXn"
      },
      "outputs": [],
      "source": [
        "from openpyxl import load_workbook\n",
        "\n",
        "planilhas = load_workbook(filename='credito.xlsx')\n",
        "# para trazer a primeira planilha: planilha = planilhas.active\n",
        "planilha = planilhas.active"
      ]
    },
    {
      "cell_type": "code",
      "execution_count": 20,
      "metadata": {},
      "outputs": [
        {
          "name": "stdout",
          "output_type": "stream",
          "text": [
            "['mestrado', 'doutorado', 'sem educacao formal', 'na', 'ensino medio', 'graduacao']\n"
          ]
        }
      ],
      "source": [
        "escolaridade = []\n",
        "cabecalho = next(planilha.values)\n",
        "indice_escolaridade = cabecalho.index('escolaridade')\n",
        "escolaridade = list(set([linha[indice_escolaridade] for linha in planilha.values if linha[indice_escolaridade] != 'escolaridade']))\n",
        "print(escolaridade)"
      ]
    },
    {
      "cell_type": "code",
      "execution_count": 21,
      "metadata": {},
      "outputs": [
        {
          "name": "stdout",
          "output_type": "stream",
          "text": [
            "['platinum', 'silver', 'blue', 'gold']\n"
          ]
        }
      ],
      "source": [
        "tipo_cartao = []\n",
        "cabecalho = next(planilha.values)\n",
        "indice_tipo_cartao = cabecalho.index('tipo_cartao')\n",
        "tipo_cartao = list(set([linha[indice_tipo_cartao] for linha in planilha.values if linha[indice_tipo_cartao] != 'tipo_cartao']))\n",
        "\n",
        "print(tipo_cartao)"
      ]
    },
    {
      "cell_type": "markdown",
      "metadata": {
        "id": "As3enQc2GVm1"
      },
      "source": [
        "---"
      ]
    },
    {
      "cell_type": "markdown",
      "metadata": {},
      "source": [
        " **Com os dados, construa o dicionário Python credito**"
      ]
    },
    {
      "cell_type": "code",
      "execution_count": 22,
      "metadata": {},
      "outputs": [],
      "source": [
        "credito = {\n",
        "    'tipo_cartao': ['blue', 'gold', 'silver', 'platinum'],\n",
        "    'escolaridade': ['graduacao', 'mestrado', 'sem educacao formal', 'na', 'ensino medio', 'doutorado']\n",
        "\n",
        "}"
      ]
    },
    {
      "cell_type": "code",
      "execution_count": 23,
      "metadata": {},
      "outputs": [
        {
          "name": "stdout",
          "output_type": "stream",
          "text": [
            "{'tipo_cartao': ['blue', 'gold', 'silver', 'platinum'], 'escolaridade': ['graduacao', 'mestrado', 'sem educacao formal', 'na', 'ensino medio', 'doutorado']}\n"
          ]
        }
      ],
      "source": [
        "print(credito)"
      ]
    },
    {
      "cell_type": "markdown",
      "metadata": {
        "id": "SS1PxxfHILHs"
      },
      "source": [
        "## 3\\. Texto para CSV"
      ]
    },
    {
      "cell_type": "markdown",
      "metadata": {
        "id": "nKDF9EBH3onp"
      },
      "source": [
        "**Arquivo TXT:** ebac.txt"
      ]
    },
    {
      "cell_type": "code",
      "execution_count": 25,
      "metadata": {
        "id": "Pyyj5VNnb16w"
      },
      "outputs": [
        {
          "name": "stdout",
          "output_type": "stream",
          "text": [
            "Writing ebac.txt\n"
          ]
        }
      ],
      "source": [
        "%%writefile ebac.txt\n",
        "MÍDIAS SOCIAIS\n",
        "Instagram, Facebook, Youtube, LinkedIn\n",
        "\n",
        "CURSOS\n",
        "Software, Design, Marketing, Audiovisual, Programação & Data, Games\n",
        "\n",
        "WEBINARS\n",
        "Próximos, Anteriores\n",
        "\n",
        "SOBRE\n",
        "Sobre nós, Centro de carreiras, Vagas\n",
        "\n",
        "CONTATO\n",
        "WhatsApp +55 (11) 4200-2991\n",
        "Telefone +55 (11) 3030-3200\n",
        "\n",
        "BLOG\n",
        "Design, Audiovisual, Marketing"
      ]
    },
    {
      "cell_type": "markdown",
      "metadata": {
        "id": "R4hMJ6D2ILH3"
      },
      "source": [
        "Extraia os números de contato do arquivo texto `ebac.txt` e salve-os no arquivo csv `contato_ebac.csv` com o separador `;`."
      ]
    },
    {
      "cell_type": "code",
      "execution_count": 26,
      "metadata": {
        "id": "ogZClDvTILH3"
      },
      "outputs": [
        {
          "name": "stdout",
          "output_type": "stream",
          "text": [
            "['MÍDIAS SOCIAIS\\n', 'Instagram, Facebook, Youtube, LinkedIn\\n', '\\n', 'CURSOS\\n', 'Software, Design, Marketing, Audiovisual, Programação & Data, Games\\n', '\\n', 'WEBINARS\\n', 'Próximos, Anteriores\\n', '\\n', 'SOBRE\\n', 'Sobre nós, Centro de carreiras, Vagas\\n', '\\n', 'CONTATO\\n', 'WhatsApp +55 (11) 4200-2991\\n', 'Telefone +55 (11) 3030-3200\\n', '\\n', 'BLOG\\n', 'Design, Audiovisual, Marketing\\n']\n"
          ]
        }
      ],
      "source": [
        "# primeiro vamos ler cada linha do texto\n",
        "with open(file='./ebac.txt', mode='r', encoding='utf8') as arquivo:\n",
        "    # criar a variável: linha. Abrir o arquivo: arquivo.readlines()\n",
        "    linhas = arquivo.readlines()\n",
        "print(linhas)"
      ]
    },
    {
      "cell_type": "markdown",
      "metadata": {
        "id": "Fx--J2bOILH4"
      },
      "source": [
        "---"
      ]
    },
    {
      "cell_type": "code",
      "execution_count": 27,
      "metadata": {},
      "outputs": [
        {
          "name": "stdout",
          "output_type": "stream",
          "text": [
            "['MÍDIAS SOCIAIS', 'Instagram, Facebook, Youtube, LinkedIn', 'CURSOS', 'Software, Design, Marketing, Audiovisual, Programação & Data, Games', 'WEBINARS', 'Próximos, Anteriores', 'SOBRE', 'Sobre nós, Centro de carreiras, Vagas', 'CONTATO', 'WhatsApp +55 (11) 4200-2991', 'Telefone +55 (11) 3030-3200', 'BLOG', 'Design, Audiovisual, Marketing']\n"
          ]
        }
      ],
      "source": [
        "# VAMOS LIMPAR O RESULTADO RETIRANDO O:\\n\n",
        "# filter; filtra elementos de uma coluna com base numa condição lógica.\n",
        "# filtra para me a lista linha e o critério é: para cada linha que tiver o \\n, retira\n",
        "linhas = filter(lambda linha: linha != '\\n', linhas)\n",
        "# map vai aplicar uma função a cada elemento, no caso o: .strip(), que por sua vez remover caracteres especias.\n",
        "linhas = map(lambda linha: linha.strip(), linhas)\n",
        "linhas = list(linhas)\n",
        "\n",
        "print(linhas)"
      ]
    },
    {
      "cell_type": "code",
      "execution_count": 28,
      "metadata": {},
      "outputs": [
        {
          "name": "stdout",
          "output_type": "stream",
          "text": [
            "[['WhatsApp +55 (11) 4200-2991'], ['Telefone +55 (11) 3030-3200']]\n"
          ]
        }
      ],
      "source": [
        "linhas_phone_whats = filter(lambda linha: '+55' in linha, linhas)\n",
        "\n",
        "linhas_phone_whats = [linha.split(';') for linha in linhas_phone_whats]\n",
        "print(list(linhas_phone_whats))"
      ]
    },
    {
      "cell_type": "code",
      "execution_count": 47,
      "metadata": {},
      "outputs": [
        {
          "name": "stdout",
          "output_type": "stream",
          "text": [
            "['WhatsApp +55 (11) 4200-2991']\n",
            "['Telefone +55 (11) 3030-3200']\n"
          ]
        }
      ],
      "source": [
        "import csv\n",
        "\n",
        "# Supondo que 'linhas_phone_whats' já tenha sido definida e processada\n",
        "linhas_phone_whats = [\n",
        "    ['WhatsApp +55 (11) 4200-2991'],\n",
        "    ['Telefone +55 (11) 3030-3200']\n",
        "]\n",
        "\n",
        "# Salvar as linhas filtradas em um arquivo CSV\n",
        "with open('resultado.csv', mode='w', newline='', encoding='utf8') as csvfile:\n",
        "    writer = csv.writer(csvfile, delimiter=';')\n",
        "    writer.writerows(linhas_phone_whats)\n",
        "\n",
        "# Abrir o arquivo novamente para leitura e imprimir o conteúdo na tela\n",
        "with open('resultado.csv', mode='r', encoding='utf8') as csvfile:\n",
        "    reader = csv.reader(csvfile, delimiter=';')\n",
        "    for row in reader:\n",
        "        print(row)\n"
      ]
    }
  ],
  "metadata": {
    "colab": {
      "provenance": []
    },
    "kernelspec": {
      "display_name": "Python 3",
      "name": "python3"
    },
    "language_info": {
      "codemirror_mode": {
        "name": "ipython",
        "version": 3
      },
      "file_extension": ".py",
      "mimetype": "text/x-python",
      "name": "python",
      "nbconvert_exporter": "python",
      "pygments_lexer": "ipython3",
      "version": "3.12.0"
    }
  },
  "nbformat": 4,
  "nbformat_minor": 0
}
